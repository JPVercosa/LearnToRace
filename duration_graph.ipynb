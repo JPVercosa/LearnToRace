{
 "cells": [
  {
   "cell_type": "code",
   "execution_count": null,
   "metadata": {},
   "outputs": [],
   "source": [
    "import os\n",
    "import numpy as np\n",
    "import matplotlib.pyplot as plt"
   ]
  },
  {
   "cell_type": "code",
   "execution_count": null,
   "metadata": {},
   "outputs": [],
   "source": [
    "cwd = os.getcwd()\n",
    "\n",
    "evo_list = os.listdir(os.path.join(cwd, 'saves', 'images', 'evolutionary'))\n",
    "reinf_list = os.listdir(os.path.join(cwd, 'saves', 'images', 'reinforcement'))"
   ]
  },
  {
   "cell_type": "code",
   "execution_count": null,
   "metadata": {},
   "outputs": [],
   "source": [
    "def generate_dicts(name, files):\n",
    "  files = [file for file in files if file.startswith(name)]  \n",
    "  # remove png from files name\n",
    "  files = [file.split('.png')[0] for file in files]\n",
    "  files.sort()\n",
    "\n",
    "  gen_time_dict = {}\n",
    "\n",
    "  for file in files:\n",
    "    file = file.split('-')\n",
    "    gen = [s for s in file if s.endswith('gen')][0]\n",
    "    gen = gen.split('gen')[0]\n",
    "    time = [s for s in file if s.endswith('secs')][0]\n",
    "    time = time.split('secs')[0]\n",
    "    gen_time_dict[int(gen)] = int(time)\n",
    "\n",
    "  gen_time_dict = dict(sorted(gen_time_dict.items()))\n",
    "  return gen_time_dict\n",
    "\n",
    "def graph_dict(gen_dict, graph_type, add=0):\n",
    "  x = []\n",
    "  y = []\n",
    "\n",
    "  for gen, time in gen_dict.items():\n",
    "      if gen <= 1000:\n",
    "          x.append(gen)\n",
    "          y.append(time)\n",
    "\n",
    "  plt.plot(x, y, label='Duration in seconds')\n",
    "  \n",
    "  if graph_type == 'e':\n",
    "      plt.title('Evolutionary Algorithm')\n",
    "      plt.xlabel('Generation')\n",
    "  else:\n",
    "      plt.title('Reinforcement Learning')\n",
    "      plt.xlabel('Episode')\n",
    "  \n",
    "  plt.ylabel('Time (secs)')\n",
    "  plt.legend(loc='upper left')\n",
    "  \n",
    "  # Adding vertical and horizontal dashed lines at the last point\n",
    "  if x and y:\n",
    "      last_gen = x[-1]\n",
    "      last_time = y[-1]\n",
    "      plt.axvline(last_gen, color='gray', linestyle='--', linewidth=0.8)\n",
    "      plt.axhline(last_time, color='gray', linestyle='--', linewidth=0.8)\n",
    "      \n",
    "      # Annotate total duration in hours, minutes, and seconds\n",
    "      total_duration_seconds = last_time\n",
    "      if add != 0:\n",
    "        total_duration_seconds += add\n",
    "      total_hours = total_duration_seconds // 3600\n",
    "      total_minutes = (total_duration_seconds % 3600) // 60\n",
    "      total_seconds = total_duration_seconds % 60\n",
    "      \n",
    "      # Create annotation text\n",
    "      total_duration_str = f'Total Duration: {int(total_hours)}h {int(total_minutes)}m {int(total_seconds)}s'\n",
    "      \n",
    "      # Positioning the annotation at the last point\n",
    "      plt.annotate(total_duration_str, xy=(last_gen, last_time), xytext=(last_gen * 0.5, last_time * 0.9),\n",
    "                    arrowprops=dict(facecolor='black', arrowstyle='->'), fontsize=10)\n",
    "  \n",
    "  plt.tight_layout()\n",
    "  plt.show()\n",
    "\n",
    "def mean_duration_per_episode(gen_dict):\n",
    "  x = []\n",
    "  y = []\n",
    "\n",
    "  for gen, time in gen_dict.items():\n",
    "      if gen <= 1000:\n",
    "          x.append(gen)\n",
    "          y.append(time)\n",
    "  \n",
    "  print(len(y))\n",
    "  y_new = []\n",
    "  for i in range(0, len(y)-1):\n",
    "    y_new.append((y[i+1]-y[i])/(x[i+1]-x[i]))\n",
    "  print(len(y_new))\n",
    "  print(y_new)  \n",
    "\n",
    "def mean_duration_per_episode_list(dict_list):\n",
    "    all_y_new = []\n",
    "    for gen_dict in dict_list:\n",
    "        x = []\n",
    "        y = []\n",
    "\n",
    "        for gen, time in gen_dict.items():\n",
    "            if gen <= 1000:\n",
    "                x.append(gen)\n",
    "                y.append(time)\n",
    "\n",
    "        # Calculate derivative\n",
    "        y_new = []\n",
    "        for i in range(0, len(y)-1):\n",
    "            if x[i+1] != x[i]:\n",
    "                y_new.append((y[i+1] - y[i]) / (x[i+1] - x[i]))\n",
    "\n",
    "        all_y_new.append(y_new)\n",
    "\n",
    "    # Plotting\n",
    "    labels = ['Evolutionary Algorithm', 'TD3 - Experiment 1', 'TD3 - Experiment 2', 'Experiment 4']\n",
    "    colors = ['b', 'g', 'r', 'orange']  # Different colors for different datasets\n",
    "    for i, y_new in enumerate(all_y_new):\n",
    "        x = np.arange(0, len(y_new))*50\n",
    "        plt.plot(x, y_new, label=f'{labels[i]}', color=colors[i])\n",
    "\n",
    "    plt.xlabel('Generation/Episode')\n",
    "    plt.ylabel('Derivative of Time')\n",
    "    plt.title('Derivative of Time vs Number of episodes/generations')\n",
    "    plt.legend()\n",
    "    plt.show()"
   ]
  },
  {
   "cell_type": "code",
   "execution_count": null,
   "metadata": {},
   "outputs": [],
   "source": [
    "evo_name = '01-Evo'\n",
    "evo_dict = generate_dicts(evo_name, evo_list)\n",
    "graph_dict(evo_dict, 'e')\n",
    "mean_duration_per_episode(evo_dict)\n"
   ]
  },
  {
   "cell_type": "code",
   "execution_count": null,
   "metadata": {},
   "outputs": [],
   "source": [
    "reinf1_name = '01-TD3'\n",
    "reinf1_dict = generate_dicts(reinf1_name, reinf_list)\n",
    "graph_dict(reinf1_dict, 'r')"
   ]
  },
  {
   "cell_type": "code",
   "execution_count": null,
   "metadata": {},
   "outputs": [],
   "source": [
    "reinf2_name = '02-TD3'\n",
    "reinf2_dict = generate_dicts(reinf2_name, reinf_list)\n",
    "graph_dict(reinf2_dict, 'r')"
   ]
  },
  {
   "cell_type": "code",
   "execution_count": null,
   "metadata": {},
   "outputs": [],
   "source": [
    "reinf3_name = '03-TD3'\n",
    "reinf3_dict = generate_dicts(reinf3_name, reinf_list)\n",
    "graph_dict(reinf3_dict, 'r', 48116)"
   ]
  },
  {
   "cell_type": "code",
   "execution_count": null,
   "metadata": {},
   "outputs": [],
   "source": [
    "mean_duration_per_episode_list([evo_dict, reinf1_dict, reinf2_dict])"
   ]
  }
 ],
 "metadata": {
  "kernelspec": {
   "display_name": "rlga",
   "language": "python",
   "name": "python3"
  },
  "language_info": {
   "codemirror_mode": {
    "name": "ipython",
    "version": 3
   },
   "file_extension": ".py",
   "mimetype": "text/x-python",
   "name": "python",
   "nbconvert_exporter": "python",
   "pygments_lexer": "ipython3",
   "version": "3.9.13"
  }
 },
 "nbformat": 4,
 "nbformat_minor": 2
}
